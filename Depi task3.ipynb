{
 "cells": [
  {
   "cell_type": "code",
   "execution_count": 49,
   "id": "0b4a58e0-cc6e-449e-83f0-fe80b49f6cae",
   "metadata": {},
   "outputs": [
    {
     "name": "stdin",
     "output_type": "stream",
     "text": [
      "please enter string Hello World\n"
     ]
    },
    {
     "data": {
      "text/plain": [
       "3"
      ]
     },
     "execution_count": 49,
     "metadata": {},
     "output_type": "execute_result"
    }
   ],
   "source": [
    "x=input(\"please enter string\")\n",
    "def count_vowels(x):\n",
    "    sum=0\n",
    "    for char in x:\n",
    "        if char.lower() in 'aeiou':\n",
    "            sum=sum+1\n",
    "    return sum\n",
    "\n",
    "result=count_vowels(x)\n",
    "result"
   ]
  },
  {
   "cell_type": "code",
   "execution_count": 50,
   "id": "45485569-0ae9-48b5-9e94-310431872dc8",
   "metadata": {},
   "outputs": [
    {
     "name": "stdin",
     "output_type": "stream",
     "text": [
      "enter numbers 3 5 2 8 1\n"
     ]
    },
    {
     "name": "stdout",
     "output_type": "stream",
     "text": [
      "Maximum value in 3 5 2 8 1 is 8.\n"
     ]
    }
   ],
   "source": [
    "def find_max(numbers):\n",
    "    # Handle the case where the list is empty\n",
    "    if not numbers:\n",
    "        return None\n",
    "    \n",
    "    # Initialize the maximum value to the first element in the list\n",
    "    max_value = numbers[0]\n",
    "    \n",
    "    # Iterate through the list to find the maximum value\n",
    "    for num in numbers:\n",
    "        if num > max_value:\n",
    "            max_value = num\n",
    "    \n",
    "    return max_value\n",
    "\n",
    "# Example usage\n",
    "numbers=input(\"enter numbers\")\n",
    "print(f\"Maximum value in {numbers} is {find_max(numbers)}.\")  # Output: 9"
   ]
  },
  {
   "cell_type": "code",
   "execution_count": null,
   "id": "4db67f68-214e-47e1-8576-7316c0a080b4",
   "metadata": {},
   "outputs": [],
   "source": []
  }
 ],
 "metadata": {
  "kernelspec": {
   "display_name": "Python 3 (ipykernel)",
   "language": "python",
   "name": "python3"
  },
  "language_info": {
   "codemirror_mode": {
    "name": "ipython",
    "version": 3
   },
   "file_extension": ".py",
   "mimetype": "text/x-python",
   "name": "python",
   "nbconvert_exporter": "python",
   "pygments_lexer": "ipython3",
   "version": "3.11.7"
  }
 },
 "nbformat": 4,
 "nbformat_minor": 5
}
